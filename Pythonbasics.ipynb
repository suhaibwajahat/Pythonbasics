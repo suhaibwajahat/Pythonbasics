{
  "nbformat": 4,
  "nbformat_minor": 0,
  "metadata": {
    "colab": {
      "provenance": []
    },
    "kernelspec": {
      "name": "python3",
      "display_name": "Python 3"
    },
    "language_info": {
      "name": "python"
    }
  },
  "cells": [
    {
      "cell_type": "code",
      "execution_count": null,
      "metadata": {
        "id": "_CB-KUGaEk7W"
      },
      "outputs": [],
      "source": []
    },
    {
      "cell_type": "markdown",
      "source": [
        "#Python Basics Questions\n",
        "\n",
        "1.What is Python, and why is it popular?\n",
        "\n",
        "python is a computer based programming language.It is popular because it widely used in data industry and due to ease of learning and is also versatile and used for many general pupose cases."
      ],
      "metadata": {
        "id": "rabYmwmsFbZI"
      }
    },
    {
      "cell_type": "markdown",
      "source": [
        "2. What is an interpreter in Python?\n",
        "\n",
        "python interpreter is a program that reads and executes the python code and converts it into machine code\n"
      ],
      "metadata": {
        "id": "s0cYRvFQFVsh"
      }
    },
    {
      "cell_type": "markdown",
      "source": [
        "3.What are pre-defined keywords in Python?\n",
        "\n",
        "keywords that are reserved and have special meanings and cannot be used as variables or identifiers."
      ],
      "metadata": {
        "id": "nkuIOsPyK091"
      }
    },
    {
      "cell_type": "markdown",
      "source": [
        "4. Can keywords be used as variable names?\n",
        "\n",
        "no ,keywords cannot be used as variable names as they are reserved in python like if,ifelse,continue,while, for , break etc."
      ],
      "metadata": {
        "id": "4_V8VsdMMF1W"
      }
    },
    {
      "cell_type": "markdown",
      "source": [
        "5. What is mutability in Python?\n",
        "\n",
        "\n",
        "the objects in python that can be stored and manipulated in memory after creation e.g;lists and dictionaries\n",
        "\n",
        "---\n",
        "\n"
      ],
      "metadata": {
        "id": "1j-a82OYMUmM"
      }
    },
    {
      "cell_type": "code",
      "source": [],
      "metadata": {
        "id": "XMTezWPRMZjr"
      },
      "execution_count": null,
      "outputs": []
    },
    {
      "cell_type": "markdown",
      "source": [
        "6.Why are lists mutable, but tuples are immutable?\n",
        "\n",
        "because lists support the operations of moidifying, appending and deleating operations and are dynamic while tuples are fixed collection of items used to represent static data and does not allow modifications."
      ],
      "metadata": {
        "id": "gpic1Ae1O38x"
      }
    },
    {
      "cell_type": "markdown",
      "source": [
        "7.What is the difference between “==” and “is” operators in Python?\n",
        "\n",
        "==(equality operater) it compares the values of two objects  to check if they are equal\n",
        "\n",
        "is(identity operater)it checks whether the two objects  refer to the same memory location or not"
      ],
      "metadata": {
        "id": "Lnkfp9z1Ma30"
      }
    },
    {
      "cell_type": "markdown",
      "source": [
        "8.What are logical operators in Python?\n",
        "\n",
        "Operators are special symbols or keywords that are used to carry out specific actions on numbers or variables in Python expressions.\n",
        "Python supports various types of operators, including arithmetic operators (+, -, *, /), comparison operators (==, !=, <, >), logical operators (and, or, not), assignment operators (=, +=, -=, *=, /=), etc."
      ],
      "metadata": {
        "id": "f9ztTl-6Q3T0"
      }
    },
    {
      "cell_type": "markdown",
      "source": [
        "9.What is type casting in Python?\n",
        "\n",
        "Also refered to as type conversion is the process of changing one data type into another."
      ],
      "metadata": {
        "id": "6X89ukXIQ-En"
      }
    },
    {
      "cell_type": "markdown",
      "source": [
        "10.What is the difference between implicit and explicit type casting?\n",
        "\n",
        "type casting performed automatically by python and understands the type of data type on its own is implicit type casting\n",
        "\n",
        "when the python does not understand the type of data on its own eg. a=\"2\"\n",
        "it will give string .and we use explicit type casting to change the data type."
      ],
      "metadata": {
        "id": "O2X0pVjCRH8b"
      }
    },
    {
      "cell_type": "markdown",
      "source": [
        "11.What is the purpose of conditional statements in Python?\n",
        "\n",
        "Conditional statements in Python are used to execute certain blocks of code based on specific conditions. These statements help control the flow of a program, making it behave differently in different situations.\n",
        "\n"
      ],
      "metadata": {
        "id": "JJnb2aaARO7I"
      }
    },
    {
      "cell_type": "markdown",
      "source": [
        "12.How does the elif statement work?\n",
        "\n",
        "it stands for else if .it is used for multiple condition when first if statement is not true and then we want to check another condition. to perform series of checks.\n",
        "\n"
      ],
      "metadata": {
        "id": "qKvjOxS7RUW2"
      }
    },
    {
      "cell_type": "markdown",
      "source": [
        "13.What is the difference between for and while loops?\n",
        "\n",
        "while loops>> repeatedly executed a block of code untill a conditionis met\n",
        "\n",
        "for loops>> iterate over a sequence of elements eg; strings,list"
      ],
      "metadata": {
        "id": "EHgOkPmvRZQb"
      }
    },
    {
      "cell_type": "markdown",
      "source": [
        "14.Describe a scenario where a while loop is more suitable than a for loop.?\n",
        "\n",
        "while loop is more suitable when the number of iterations is not predetermined and depends on the conditions being met while in case of for loop the number of iterations is fixed in advance.\n",
        "\n",
        "here is a scenerio where we are making a login system for a website that has 4 attempts to enter correct password.The program should continue to ask for the password untill the users enters correct password or exhuasts all attempts"
      ],
      "metadata": {
        "id": "FkxKNy_9RfwS"
      }
    },
    {
      "cell_type": "code",
      "source": [],
      "metadata": {
        "id": "pJmc8Ph6RlWz"
      },
      "execution_count": null,
      "outputs": []
    },
    {
      "cell_type": "markdown",
      "source": [
        "#practical questions"
      ],
      "metadata": {
        "id": "6krUVuxuRl8c"
      }
    },
    {
      "cell_type": "code",
      "source": [
        "#1.Write a Python program to print \"Hello, World!\n",
        "\n",
        "print(\"Hello, world!\")\n"
      ],
      "metadata": {
        "id": "BR7q5llHRore",
        "colab": {
          "base_uri": "https://localhost:8080/"
        },
        "outputId": "5a076f78-4210-4d1c-d418-2a40957f02a6"
      },
      "execution_count": null,
      "outputs": [
        {
          "output_type": "stream",
          "name": "stdout",
          "text": [
            "Hello, world!\n"
          ]
        }
      ]
    },
    {
      "cell_type": "code",
      "source": [
        "#2.Write a Python program that displays your name and age?\n",
        "\n",
        "name=input(\"enter your name=\" \"\")\n",
        "age=input(\"enter your age=int\")\n",
        "print(name)\n",
        "print(age)"
      ],
      "metadata": {
        "id": "Tvj6j0urR2VM",
        "colab": {
          "base_uri": "https://localhost:8080/"
        },
        "outputId": "26a1822c-4d62-4a1e-9989-141804da26ea"
      },
      "execution_count": null,
      "outputs": [
        {
          "output_type": "stream",
          "name": "stdout",
          "text": [
            "enter your name=wajahat\n",
            "enter your age=int26\n",
            "wajahat\n",
            "26\n"
          ]
        }
      ]
    },
    {
      "cell_type": "code",
      "source": [
        "#3.Write code to print all the pre-defined keywords in Python using the keyword library?\n",
        "\n",
        "import keyword\n",
        "print(\"The predefined keywords is :  \")\n",
        "print(keyword.kwlist)"
      ],
      "metadata": {
        "id": "S6xwrPMuSTUy",
        "colab": {
          "base_uri": "https://localhost:8080/"
        },
        "outputId": "49832d2b-fbcb-4120-e007-02971277119d"
      },
      "execution_count": null,
      "outputs": [
        {
          "output_type": "stream",
          "name": "stdout",
          "text": [
            "The predefined keywords is :  \n",
            "['False', 'None', 'True', 'and', 'as', 'assert', 'async', 'await', 'break', 'class', 'continue', 'def', 'del', 'elif', 'else', 'except', 'finally', 'for', 'from', 'global', 'if', 'import', 'in', 'is', 'lambda', 'nonlocal', 'not', 'or', 'pass', 'raise', 'return', 'try', 'while', 'with', 'yield']\n"
          ]
        }
      ]
    },
    {
      "cell_type": "code",
      "source": [
        "\n",
        "#4.Write a program that checks if a given word is a Python keyword\n",
        "\n",
        "import keyword\n",
        "x=input(\"enter a keyword is \" \"\")\n",
        "if keyword.iskeyword(x):\n",
        "  print(\"it is python keyword\")\n",
        "else:\n",
        "  print(\"it is not a python keyword\")\n"
      ],
      "metadata": {
        "id": "faEzjlVoSUyu",
        "colab": {
          "base_uri": "https://localhost:8080/"
        },
        "outputId": "c7fbd65f-849e-4b7f-d9ee-33603ba2e3e1"
      },
      "execution_count": null,
      "outputs": [
        {
          "output_type": "stream",
          "name": "stdout",
          "text": [
            "enter a keyword is while\n",
            "it is python keyword\n"
          ]
        }
      ]
    },
    {
      "cell_type": "code",
      "source": [
        "#5. Create a list and tuple in Python, and demonstrate how attempting to change an element works differently for each\n",
        "\n",
        "list=[1,2,3,4,5,\"ajay\",6.5,7]\n",
        "list[4]\n",
        "list[4]=\"wajahat\"\n",
        "print(list)\n",
        "\n",
        "tuple=(1,2,3,4,5,\"alex\",6,7)\n",
        "tuple[4]=\"wajahat\"\n",
        "print(tuple)"
      ],
      "metadata": {
        "id": "qW-rpJQdSV-0",
        "colab": {
          "base_uri": "https://localhost:8080/",
          "height": 211
        },
        "outputId": "5a02effe-7ec9-48c7-82d2-75fbb2ba14a4"
      },
      "execution_count": null,
      "outputs": [
        {
          "output_type": "stream",
          "name": "stdout",
          "text": [
            "[1, 2, 3, 4, 'wajahat', 'ajay', 6.5, 7]\n"
          ]
        },
        {
          "output_type": "error",
          "ename": "TypeError",
          "evalue": "'tuple' object does not support item assignment",
          "traceback": [
            "\u001b[0;31m---------------------------------------------------------------------------\u001b[0m",
            "\u001b[0;31mTypeError\u001b[0m                                 Traceback (most recent call last)",
            "\u001b[0;32m<ipython-input-42-f9884a674299>\u001b[0m in \u001b[0;36m<cell line: 9>\u001b[0;34m()\u001b[0m\n\u001b[1;32m      7\u001b[0m \u001b[0;34m\u001b[0m\u001b[0m\n\u001b[1;32m      8\u001b[0m \u001b[0mtuple\u001b[0m\u001b[0;34m=\u001b[0m\u001b[0;34m(\u001b[0m\u001b[0;36m1\u001b[0m\u001b[0;34m,\u001b[0m\u001b[0;36m2\u001b[0m\u001b[0;34m,\u001b[0m\u001b[0;36m3\u001b[0m\u001b[0;34m,\u001b[0m\u001b[0;36m4\u001b[0m\u001b[0;34m,\u001b[0m\u001b[0;36m5\u001b[0m\u001b[0;34m,\u001b[0m\u001b[0;34m\"alex\"\u001b[0m\u001b[0;34m,\u001b[0m\u001b[0;36m6\u001b[0m\u001b[0;34m,\u001b[0m\u001b[0;36m7\u001b[0m\u001b[0;34m)\u001b[0m\u001b[0;34m\u001b[0m\u001b[0;34m\u001b[0m\u001b[0m\n\u001b[0;32m----> 9\u001b[0;31m \u001b[0mtuple\u001b[0m\u001b[0;34m[\u001b[0m\u001b[0;36m4\u001b[0m\u001b[0;34m]\u001b[0m\u001b[0;34m=\u001b[0m\u001b[0;34m\"wajahat\"\u001b[0m\u001b[0;34m\u001b[0m\u001b[0;34m\u001b[0m\u001b[0m\n\u001b[0m\u001b[1;32m     10\u001b[0m \u001b[0mprint\u001b[0m\u001b[0;34m(\u001b[0m\u001b[0mtuple\u001b[0m\u001b[0;34m)\u001b[0m\u001b[0;34m\u001b[0m\u001b[0;34m\u001b[0m\u001b[0m\n",
            "\u001b[0;31mTypeError\u001b[0m: 'tuple' object does not support item assignment"
          ]
        }
      ]
    },
    {
      "cell_type": "code",
      "source": [
        "#6.Write a function to demonstrate the behavior of mutable and immutable arguments?\n",
        "\n",
        "#immutable arg\n",
        "a=\"welcome to pwskills\"\n",
        "a[0]=\"h\"\n",
        "print(a)"
      ],
      "metadata": {
        "id": "ZkYk2oy5SXLQ",
        "colab": {
          "base_uri": "https://localhost:8080/",
          "height": 193
        },
        "outputId": "3d3941ab-04b0-4cd2-bad2-e426d1d2f5ac"
      },
      "execution_count": null,
      "outputs": [
        {
          "output_type": "error",
          "ename": "TypeError",
          "evalue": "'str' object does not support item assignment",
          "traceback": [
            "\u001b[0;31m---------------------------------------------------------------------------\u001b[0m",
            "\u001b[0;31mTypeError\u001b[0m                                 Traceback (most recent call last)",
            "\u001b[0;32m<ipython-input-16-463b7a786fdc>\u001b[0m in \u001b[0;36m<cell line: 5>\u001b[0;34m()\u001b[0m\n\u001b[1;32m      3\u001b[0m \u001b[0;31m#immutable arg\u001b[0m\u001b[0;34m\u001b[0m\u001b[0;34m\u001b[0m\u001b[0m\n\u001b[1;32m      4\u001b[0m \u001b[0ma\u001b[0m\u001b[0;34m=\u001b[0m\u001b[0;34m\"welcome to pwskills\"\u001b[0m\u001b[0;34m\u001b[0m\u001b[0;34m\u001b[0m\u001b[0m\n\u001b[0;32m----> 5\u001b[0;31m \u001b[0ma\u001b[0m\u001b[0;34m[\u001b[0m\u001b[0;36m0\u001b[0m\u001b[0;34m]\u001b[0m\u001b[0;34m=\u001b[0m\u001b[0;34m\"h\"\u001b[0m\u001b[0;34m\u001b[0m\u001b[0;34m\u001b[0m\u001b[0m\n\u001b[0m\u001b[1;32m      6\u001b[0m \u001b[0mprint\u001b[0m\u001b[0;34m(\u001b[0m\u001b[0ma\u001b[0m\u001b[0;34m)\u001b[0m\u001b[0;34m\u001b[0m\u001b[0;34m\u001b[0m\u001b[0m\n",
            "\u001b[0;31mTypeError\u001b[0m: 'str' object does not support item assignment"
          ]
        }
      ]
    },
    {
      "cell_type": "code",
      "source": [
        "#7.Write a function to demonstrate the behavior of mutable and immutable arguments\n",
        "\n",
        "#mutable arg\n",
        "\n",
        "list=[1,2,3,4,5,6,\"pw\",\"skills\"]\n",
        "list[5]=\"python\"\n",
        "print(list)"
      ],
      "metadata": {
        "id": "mA3n06HZSanK",
        "colab": {
          "base_uri": "https://localhost:8080/"
        },
        "outputId": "fb122950-2342-4f7f-ce2d-b6529a943da7"
      },
      "execution_count": null,
      "outputs": [
        {
          "output_type": "stream",
          "name": "stdout",
          "text": [
            "[1, 2, 3, 4, 5, 'python', 'pw', 'skills']\n"
          ]
        }
      ]
    },
    {
      "cell_type": "code",
      "source": [
        "#8.Write a program to demonstrate the use of logical operators?\n",
        "\n",
        "a,b,c=True,False,True\n",
        "if a and c:\n",
        "  print(\"both a and c are true(AND)\")\n",
        "if a or b:\n",
        "  print(\"Either a or b are true (OR)\")\n",
        "if not b:\n",
        "  print(\"b is False(NOT)\")\n"
      ],
      "metadata": {
        "id": "1b_o8vuVSc2S",
        "colab": {
          "base_uri": "https://localhost:8080/"
        },
        "outputId": "a9a0e04e-2616-47bd-8764-78b87da1bad2"
      },
      "execution_count": null,
      "outputs": [
        {
          "output_type": "stream",
          "name": "stdout",
          "text": [
            "both a and c are true(AND)\n",
            "Either a or b are true (OR)\n",
            "b is False(NOT)\n"
          ]
        }
      ]
    },
    {
      "cell_type": "code",
      "source": [
        "#9.Write a Python program to convert user input from string to integer, float, and boolean types?\n",
        "\n",
        "user_input=input(\"enter a number\")\n",
        "integer= int(user_input)\n",
        "num= float(user_input)\n",
        "boolean= bool(user_input)\n",
        "print(integer)\n",
        "print(num)\n",
        "print(boolean)"
      ],
      "metadata": {
        "id": "uKL8unWdSd8C",
        "colab": {
          "base_uri": "https://localhost:8080/"
        },
        "outputId": "f4123eed-6580-486b-e535-fba5bb5b77c4"
      },
      "execution_count": 4,
      "outputs": [
        {
          "output_type": "stream",
          "name": "stdout",
          "text": [
            "enter a number234\n",
            "234\n",
            "234.0\n",
            "True\n"
          ]
        }
      ]
    },
    {
      "cell_type": "code",
      "source": [
        "#10.Write code to demonstrate type casting with list elements?\n",
        "\n",
        "list_count=[1,2,3,4,5,\"ajay\",\"pw\",\"skills\"]\n",
        "type[5]\n"
      ],
      "metadata": {
        "id": "6OA2z11eSfQ1",
        "colab": {
          "base_uri": "https://localhost:8080/"
        },
        "outputId": "f007fb60-acca-49cc-a7c2-a125075c1343"
      },
      "execution_count": null,
      "outputs": [
        {
          "output_type": "execute_result",
          "data": {
            "text/plain": [
              "type[5]"
            ]
          },
          "metadata": {},
          "execution_count": 98
        }
      ]
    },
    {
      "cell_type": "code",
      "source": [
        "#type casting\n",
        "int\n",
        "\n",
        "a=5.8\n",
        "print(type(a))\n",
        "b=int(a)\n",
        "print(b)\n",
        "print(type(b))"
      ],
      "metadata": {
        "id": "c9lEr9CbF2mz",
        "colab": {
          "base_uri": "https://localhost:8080/"
        },
        "outputId": "323f601b-8459-4109-cb23-7e1a925f60c8"
      },
      "execution_count": 3,
      "outputs": [
        {
          "output_type": "stream",
          "name": "stdout",
          "text": [
            "<class 'float'>\n",
            "5\n",
            "<class 'int'>\n"
          ]
        }
      ]
    },
    {
      "cell_type": "code",
      "source": [
        "#11.Write a program that checks if a number is positive, negative, or zero?\n",
        "\n",
        "num=float(input(\"enter a number=\"))\n",
        "if num>0:\n",
        "  print(\"positive number\")\n",
        "elif num==0:\n",
        "  print(\"the number is zero\")\n",
        "else:\n",
        "  print(\"negative number\")\n",
        "\n"
      ],
      "metadata": {
        "id": "RY2xrz1lSgtY",
        "colab": {
          "base_uri": "https://localhost:8080/"
        },
        "outputId": "3def0d4e-d236-4b4a-c3d5-dffacad881ae"
      },
      "execution_count": null,
      "outputs": [
        {
          "output_type": "stream",
          "name": "stdout",
          "text": [
            "enter a number=65\n",
            "positive number\n"
          ]
        }
      ]
    },
    {
      "cell_type": "code",
      "source": [
        "num=float(input(\"enter a number=\"))\n",
        "if num>0:\n",
        "  print(\"positive number\")\n",
        "elif num==0:\n",
        "  print(\"the number is zero\")\n",
        "else:\n",
        "  print(\"negative number\")"
      ],
      "metadata": {
        "colab": {
          "base_uri": "https://localhost:8080/"
        },
        "id": "GgGFyBc_yPox",
        "outputId": "9d046569-775a-43d5-b3cd-6d439173b423"
      },
      "execution_count": null,
      "outputs": [
        {
          "output_type": "stream",
          "name": "stdout",
          "text": [
            "enter a number=-2.56\n",
            "negative number\n"
          ]
        }
      ]
    },
    {
      "cell_type": "code",
      "source": [
        "#12.Write a for loop to print numbers from 1 to 100\n",
        "\n",
        "for i in range(1,101):\n",
        "  print(i)"
      ],
      "metadata": {
        "id": "csdYZ8ifShyd",
        "colab": {
          "base_uri": "https://localhost:8080/"
        },
        "outputId": "ebb8ad43-d140-425b-fdab-a4dc0e0df34a"
      },
      "execution_count": null,
      "outputs": [
        {
          "output_type": "stream",
          "name": "stdout",
          "text": [
            "1\n",
            "2\n",
            "3\n",
            "4\n",
            "5\n",
            "6\n",
            "7\n",
            "8\n",
            "9\n",
            "10\n",
            "11\n",
            "12\n",
            "13\n",
            "14\n",
            "15\n",
            "16\n",
            "17\n",
            "18\n",
            "19\n",
            "20\n",
            "21\n",
            "22\n",
            "23\n",
            "24\n",
            "25\n",
            "26\n",
            "27\n",
            "28\n",
            "29\n",
            "30\n",
            "31\n",
            "32\n",
            "33\n",
            "34\n",
            "35\n",
            "36\n",
            "37\n",
            "38\n",
            "39\n",
            "40\n",
            "41\n",
            "42\n",
            "43\n",
            "44\n",
            "45\n",
            "46\n",
            "47\n",
            "48\n",
            "49\n",
            "50\n",
            "51\n",
            "52\n",
            "53\n",
            "54\n",
            "55\n",
            "56\n",
            "57\n",
            "58\n",
            "59\n",
            "60\n",
            "61\n",
            "62\n",
            "63\n",
            "64\n",
            "65\n",
            "66\n",
            "67\n",
            "68\n",
            "69\n",
            "70\n",
            "71\n",
            "72\n",
            "73\n",
            "74\n",
            "75\n",
            "76\n",
            "77\n",
            "78\n",
            "79\n",
            "80\n",
            "81\n",
            "82\n",
            "83\n",
            "84\n",
            "85\n",
            "86\n",
            "87\n",
            "88\n",
            "89\n",
            "90\n",
            "91\n",
            "92\n",
            "93\n",
            "94\n",
            "95\n",
            "96\n",
            "97\n",
            "98\n",
            "99\n",
            "100\n"
          ]
        }
      ]
    },
    {
      "cell_type": "code",
      "source": [
        "#13.Write a Python program to find the sum of all even numbers between 1 and 500?\n",
        "\n",
        "sum=0\n",
        "for i in range(1,501):\n",
        "  if i%2==0:\n",
        "    sum+=i  #add even nmbs\n",
        "    print(sum)\n"
      ],
      "metadata": {
        "id": "qVAzIP_wSi5c",
        "colab": {
          "base_uri": "https://localhost:8080/"
        },
        "outputId": "7659ae52-c3c6-4be3-91cd-6d9c5634fc92"
      },
      "execution_count": null,
      "outputs": [
        {
          "output_type": "stream",
          "name": "stdout",
          "text": [
            "2\n",
            "6\n",
            "12\n",
            "20\n",
            "30\n",
            "42\n",
            "56\n",
            "72\n",
            "90\n",
            "110\n",
            "132\n",
            "156\n",
            "182\n",
            "210\n",
            "240\n",
            "272\n",
            "306\n",
            "342\n",
            "380\n",
            "420\n",
            "462\n",
            "506\n",
            "552\n",
            "600\n",
            "650\n",
            "702\n",
            "756\n",
            "812\n",
            "870\n",
            "930\n",
            "992\n",
            "1056\n",
            "1122\n",
            "1190\n",
            "1260\n",
            "1332\n",
            "1406\n",
            "1482\n",
            "1560\n",
            "1640\n",
            "1722\n",
            "1806\n",
            "1892\n",
            "1980\n",
            "2070\n",
            "2162\n",
            "2256\n",
            "2352\n",
            "2450\n",
            "2550\n",
            "2652\n",
            "2756\n",
            "2862\n",
            "2970\n",
            "3080\n",
            "3192\n",
            "3306\n",
            "3422\n",
            "3540\n",
            "3660\n",
            "3782\n",
            "3906\n",
            "4032\n",
            "4160\n",
            "4290\n",
            "4422\n",
            "4556\n",
            "4692\n",
            "4830\n",
            "4970\n",
            "5112\n",
            "5256\n",
            "5402\n",
            "5550\n",
            "5700\n",
            "5852\n",
            "6006\n",
            "6162\n",
            "6320\n",
            "6480\n",
            "6642\n",
            "6806\n",
            "6972\n",
            "7140\n",
            "7310\n",
            "7482\n",
            "7656\n",
            "7832\n",
            "8010\n",
            "8190\n",
            "8372\n",
            "8556\n",
            "8742\n",
            "8930\n",
            "9120\n",
            "9312\n",
            "9506\n",
            "9702\n",
            "9900\n",
            "10100\n",
            "10302\n",
            "10506\n",
            "10712\n",
            "10920\n",
            "11130\n",
            "11342\n",
            "11556\n",
            "11772\n",
            "11990\n",
            "12210\n",
            "12432\n",
            "12656\n",
            "12882\n",
            "13110\n",
            "13340\n",
            "13572\n",
            "13806\n",
            "14042\n",
            "14280\n",
            "14520\n",
            "14762\n",
            "15006\n",
            "15252\n",
            "15500\n",
            "15750\n",
            "16002\n",
            "16256\n",
            "16512\n",
            "16770\n",
            "17030\n",
            "17292\n",
            "17556\n",
            "17822\n",
            "18090\n",
            "18360\n",
            "18632\n",
            "18906\n",
            "19182\n",
            "19460\n",
            "19740\n",
            "20022\n",
            "20306\n",
            "20592\n",
            "20880\n",
            "21170\n",
            "21462\n",
            "21756\n",
            "22052\n",
            "22350\n",
            "22650\n",
            "22952\n",
            "23256\n",
            "23562\n",
            "23870\n",
            "24180\n",
            "24492\n",
            "24806\n",
            "25122\n",
            "25440\n",
            "25760\n",
            "26082\n",
            "26406\n",
            "26732\n",
            "27060\n",
            "27390\n",
            "27722\n",
            "28056\n",
            "28392\n",
            "28730\n",
            "29070\n",
            "29412\n",
            "29756\n",
            "30102\n",
            "30450\n",
            "30800\n",
            "31152\n",
            "31506\n",
            "31862\n",
            "32220\n",
            "32580\n",
            "32942\n",
            "33306\n",
            "33672\n",
            "34040\n",
            "34410\n",
            "34782\n",
            "35156\n",
            "35532\n",
            "35910\n",
            "36290\n",
            "36672\n",
            "37056\n",
            "37442\n",
            "37830\n",
            "38220\n",
            "38612\n",
            "39006\n",
            "39402\n",
            "39800\n",
            "40200\n",
            "40602\n",
            "41006\n",
            "41412\n",
            "41820\n",
            "42230\n",
            "42642\n",
            "43056\n",
            "43472\n",
            "43890\n",
            "44310\n",
            "44732\n",
            "45156\n",
            "45582\n",
            "46010\n",
            "46440\n",
            "46872\n",
            "47306\n",
            "47742\n",
            "48180\n",
            "48620\n",
            "49062\n",
            "49506\n",
            "49952\n",
            "50400\n",
            "50850\n",
            "51302\n",
            "51756\n",
            "52212\n",
            "52670\n",
            "53130\n",
            "53592\n",
            "54056\n",
            "54522\n",
            "54990\n",
            "55460\n",
            "55932\n",
            "56406\n",
            "56882\n",
            "57360\n",
            "57840\n",
            "58322\n",
            "58806\n",
            "59292\n",
            "59780\n",
            "60270\n",
            "60762\n",
            "61256\n",
            "61752\n",
            "62250\n",
            "62750\n"
          ]
        }
      ]
    },
    {
      "cell_type": "code",
      "source": [
        "#14.Write a program to reverse a string using a while loop?\n",
        "\n",
        "string=\"pwskillsdata\"\n",
        "reverse=\"\"\n",
        "length=len(string)-1\n",
        "while(length>=0):\n",
        "  reverse+=string[length]\n",
        "  length-=1\n",
        "print(reverse)\n"
      ],
      "metadata": {
        "id": "4AkinI6xSlaq",
        "colab": {
          "base_uri": "https://localhost:8080/"
        },
        "outputId": "79c39f7e-a9fc-443a-a122-aa67365308ac"
      },
      "execution_count": null,
      "outputs": [
        {
          "output_type": "stream",
          "name": "stdout",
          "text": [
            "atadsllikswp\n"
          ]
        }
      ]
    },
    {
      "cell_type": "code",
      "source": [
        "#15.Write a Python program to calculate the factorial of a number provided by the user using a while loop.\n",
        "\n",
        "num=int(input(\"enter a number=\"\"\"))\n",
        "factorial=1\n",
        "i=1\n",
        "while(i<=num):\n",
        "  factorial*=i\n",
        "  i+=1\n",
        "print(factorial)"
      ],
      "metadata": {
        "id": "M4KnlnQlSod6",
        "colab": {
          "base_uri": "https://localhost:8080/"
        },
        "outputId": "106ba47b-55c4-418b-cdce-ac296a1d4057"
      },
      "execution_count": null,
      "outputs": [
        {
          "output_type": "stream",
          "name": "stdout",
          "text": [
            "enter a number=5\n",
            "120\n"
          ]
        }
      ]
    },
    {
      "cell_type": "code",
      "source": [],
      "metadata": {
        "id": "P1k_ClmBCmV5"
      },
      "execution_count": null,
      "outputs": []
    }
  ]
}